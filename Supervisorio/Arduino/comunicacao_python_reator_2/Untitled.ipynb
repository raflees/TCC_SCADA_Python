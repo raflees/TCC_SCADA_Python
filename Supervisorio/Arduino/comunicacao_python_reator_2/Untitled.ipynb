{
 "cells": [
  {
   "cell_type": "code",
   "execution_count": 17,
   "metadata": {},
   "outputs": [],
   "source": [
    "from scipy.integrate import odeint\n",
    "from numpy import linspace\n",
    "\n",
    "from matplotlib.pyplot import plot\n",
    "\n",
    "def sistema(x,t):\n",
    "        \n",
    "    F1 = 0.1\n",
    "    \n",
    "    F2 = 0.1\n",
    "    \n",
    "    dx1dt =  F1 + F2 - 0.5 * x[0]**0.5\n",
    "\n",
    "    dx2dt = (24.9-x[1])*F1/x[0]+(0.1-x[1])*F2/x[0]-10*x[1]/(1+0.99*x[1])**1.5\n",
    "\n",
    "    dx3dt = (-x[2])*F1/x[0]-x[2]*F2/x[0]+10*x[1]/(1+0.99*x[1])**1.5\n",
    "\n",
    "    return [dx1dt, dx2dt, dx3dt]\n",
    "\n",
    "t = linspace(0,60,50)\n",
    "\n",
    "y = odeint(sistema,[1,4,0],t)"
   ]
  },
  {
   "cell_type": "code",
   "execution_count": 18,
   "metadata": {
    "scrolled": false
   },
   "outputs": [
    {
     "data": {
      "text/plain": [
       "[<matplotlib.lines.Line2D at 0x7f4556584910>,\n",
       " <matplotlib.lines.Line2D at 0x7f4556584b50>,\n",
       " <matplotlib.lines.Line2D at 0x7f4556584d50>]"
      ]
     },
     "execution_count": 18,
     "metadata": {},
     "output_type": "execute_result"
    },
    {
     "data": {
      "image/png": "[encoded data removed]",
      "text/plain": [
       "<Figure size 432x288 with 1 Axes>"
      ]
     },
     "metadata": {
      "needs_background": "light"
     },
     "output_type": "display_data"
    }
   ],
   "source": [
    "plot(t,y)"
   ]
  },
  {
   "cell_type": "code",
   "execution_count": 19,
   "metadata": {},
   "outputs": [
    {
     "data": {
      "text/plain": [
       "array([[ 1.        ,  4.        ,  0.        ],\n",
       "       [ 0.68644063,  2.20500277,  3.97888533],\n",
       "       [ 0.46952795,  2.02467932,  6.38442628],\n",
       "       [ 0.33044662,  3.49202991,  6.82362681],\n",
       "       [ 0.24845487,  5.90947846,  5.66938882],\n",
       "       [ 0.20385502,  8.0335959 ,  4.1591758 ],\n",
       "       [ 0.18110467,  9.28343931,  3.1313601 ],\n",
       "       [ 0.16998576,  9.86833348,  2.61067518],\n",
       "       [ 0.1646835 , 10.11690939,  2.37824733],\n",
       "       [ 0.16218719, 10.22092298,  2.27799623],\n",
       "       [ 0.16101932, 10.26530322,  2.23445948],\n",
       "       [ 0.16047458, 10.28475037,  2.21519793],\n",
       "       [ 0.16022086, 10.29346257,  2.2065262 ],\n",
       "       [ 0.16010276, 10.29742552,  2.20257205],\n",
       "       [ 0.16004781, 10.29924541,  2.20075406],\n",
       "       [ 0.16002224, 10.3000859 ,  2.19991398],\n",
       "       [ 0.16001035, 10.30047533,  2.19952465],\n",
       "       [ 0.16000481, 10.30065609,  2.19934391],\n",
       "       [ 0.16000224, 10.30074008,  2.19925992],\n",
       "       [ 0.16000104, 10.30077912,  2.19922088],\n",
       "       [ 0.16000048, 10.30079728,  2.19920272],\n",
       "       [ 0.16000023, 10.30080573,  2.19919427],\n",
       "       [ 0.1600001 , 10.30080965,  2.19919035],\n",
       "       [ 0.16000005, 10.30081148,  2.19918852],\n",
       "       [ 0.16000002, 10.30081233,  2.19918767],\n",
       "       [ 0.16000001, 10.30081272,  2.19918728],\n",
       "       [ 0.16      , 10.30081291,  2.19918709],\n",
       "       [ 0.16      , 10.300813  ,  2.199187  ],\n",
       "       [ 0.16      , 10.30081303,  2.19918697],\n",
       "       [ 0.16      , 10.30081305,  2.19918695],\n",
       "       [ 0.16      , 10.30081306,  2.19918694],\n",
       "       [ 0.16      , 10.30081307,  2.19918693],\n",
       "       [ 0.16      , 10.30081307,  2.19918693],\n",
       "       [ 0.16      , 10.30081307,  2.19918693],\n",
       "       [ 0.16      , 10.30081307,  2.19918693],\n",
       "       [ 0.16      , 10.30081307,  2.19918693],\n",
       "       [ 0.16      , 10.30081307,  2.19918693],\n",
       "       [ 0.16      , 10.30081307,  2.19918693],\n",
       "       [ 0.16      , 10.30081307,  2.19918693],\n",
       "       [ 0.16      , 10.30081307,  2.19918693],\n",
       "       [ 0.16      , 10.30081307,  2.19918693],\n",
       "       [ 0.16      , 10.30081307,  2.19918693],\n",
       "       [ 0.16      , 10.30081307,  2.19918693],\n",
       "       [ 0.16      , 10.30081307,  2.19918693],\n",
       "       [ 0.16      , 10.30081307,  2.19918693],\n",
       "       [ 0.16      , 10.30081307,  2.19918693],\n",
       "       [ 0.16      , 10.30081307,  2.19918693],\n",
       "       [ 0.16      , 10.30081307,  2.19918693],\n",
       "       [ 0.16      , 10.30081307,  2.19918693],\n",
       "       [ 0.16      , 10.30081307,  2.19918693]])"
      ]
     },
     "execution_count": 19,
     "metadata": {},
     "output_type": "execute_result"
    }
   ],
   "source": [
    "y"
   ]
  },
  {
   "cell_type": "code",
   "execution_count": null,
   "metadata": {},
   "outputs": [],
   "source": []
  }
 ],
 "metadata": {
  "kernelspec": {
   "display_name": "Python 3",
   "language": "python",
   "name": "python3"
  },
  "language_info": {
   "codemirror_mode": {
    "name": "ipython",
    "version": 3
   },
   "file_extension": ".py",
   "mimetype": "text/x-python",
   "name": "python",
   "nbconvert_exporter": "python",
   "pygments_lexer": "ipython3",
   "version": "3.7.4"
  }
 },
 "nbformat": 4,
 "nbformat_minor": 2
}
