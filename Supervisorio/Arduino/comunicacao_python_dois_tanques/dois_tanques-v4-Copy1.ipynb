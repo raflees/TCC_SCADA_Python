{
 "cells": [
  {
   "cell_type": "markdown",
   "metadata": {},
   "source": [
    "# Dois tanques\n",
    "\n",
    "![Tanques](./tanques.png)\n",
    "\n",
    "**Equacionamento**:\n",
    "\n",
    "$\\frac{d h_2}{dt} = -\\frac{{c_v}_2}{A_2}\\cdot\\sqrt{h_2}+\\frac{p_2}{A_2}\\cdot T_2$\n",
    "\n",
    "$ \\frac{d h_1}{dt} = -\\frac{{c_v}_1}{A_1}\\cdot\\sqrt{h_1}+\\frac{{c_v}_2}{A_1}\\cdot\\sqrt{h_2}+\\frac{p_1}{A_1}\\cdot T_1$\n",
    "\n",
    "\n",
    "**Parâmetros**:\n",
    "\n",
    "- Tanque 1\n",
    "\n",
    "  - $T_1$ -> sinal encaminhado para bomba 1 (mA)\n",
    "  \n",
    "  - ${c_v}_1$ -> constante de descarga do tanque 1 = 27 cm$^{2.5}$/s\n",
    "\n",
    "  - ${p_1}$ -> parâmetro para conversão entre sinal da bomba 1 e vazão = 20,25 cm$^3$ s$^{-1}$ / mA\n",
    "\n",
    "  - ${A_1}$  -> Área da seção transversao ao tanque 1  = 225 cm$^2$\n",
    "\n",
    "- Tanque 2\n",
    "\n",
    "  - $T_2$ -> sinal encaminhado para bomba 2 (mA)\n",
    "  \n",
    "  - ${c_v}_2$ -> constante de descarga do tanque 2  = 24,75 cm$^{2.5}$/s\n",
    "\n",
    "  - ${p_2}$ -> parâmetro para conversão entre sinal da bomba 2 e vazão = 6,75 cm$^3$ s$^{-1}$ / mA\n",
    "\n",
    "  - ${A_2}$  -> Área da seção transversao ao tanque 2 = 225 cm$^2$\n",
    "\n"
   ]
  },
  {
   "cell_type": "code",
   "execution_count": 1,
   "metadata": {},
   "outputs": [],
   "source": [
    "# Importação de pacotes\n",
    "import serial\n",
    "\n",
    "from numpy import linspace, array, hstack\n",
    "\n",
    "## Pacotes que permitem manipular como os gráficos aparecem neste notebook\n",
    "from matplotlib.pyplot import figure\n",
    "from IPython import display\n",
    "from ipywidgets.widgets.interaction import show_inline_matplotlib_plots"
   ]
  },
  {
   "cell_type": "code",
   "execution_count": 2,
   "metadata": {},
   "outputs": [],
   "source": [
    "# Gráfico\n",
    "\n",
    "def grafico(h1,h2,v1,v2,instanteTempo):\n",
    "    \n",
    "    fig = figure(figsize=(4,8))\n",
    "    \n",
    "    ax = fig.add_subplot(2, 1, 1)\n",
    "    ax.plot([0, 0], [0, 20], 'k-', [1, 1], [0, 20], 'k-')\n",
    "    ax.plot([0, 1],[float(h2), float(h2)],'b-')\n",
    "    ax.set_ylabel('h2')\n",
    "    ax.set_ylim(0,20)\n",
    "    ax.get_xaxis().set_visible(False)\n",
    "    ax.get_yaxis().set_visible(True)\n",
    "    \n",
    "    ax = fig.add_subplot(2, 1, 2)\n",
    "    ax.plot([0, 0], [0, 20], 'k-',[1, 1], [0, 20], 'k-')\n",
    "    ax.plot([0, 1], [float(h1), float(h1)], 'b-')\n",
    "    ax.set_ylabel('h1')\n",
    "    ax.set_ylim(0,20)\n",
    "    ax.get_xaxis().set_visible(False)\n",
    "    ax.get_yaxis().set_visible(True) \n",
    "    \n",
    "    ax.text(1.1, 2.2, 'Tempo: {:.2f} s'.format(instanteTempo), fontsize=14, verticalalignment='top',)\n",
    "    ax.text(1.1, 0.95, 'v1: {:.2f} mA | v2: {:.2f} mA'.format(float(v1), float(v2)), fontsize=14, verticalalignment='top',)\n",
    "\n",
    "    \n",
    "def grafico_tendencia(h1,h2,v1,v2,namostra):\n",
    "    \n",
    "    tempo = linspace(0,(namostra-1)*Ts,namostra)\n",
    "\n",
    "    fig = figure(figsize=(10,5))\n",
    "    axes = fig.add_subplot(4,1,1)\n",
    "    axes.plot(tempo,h2,'.-')\n",
    "    axes.set_ylabel('$h_2$/ cm')\n",
    "    axes.get_xaxis().set_visible(False)\n",
    "\n",
    "    axes = fig.add_subplot(4,1,2)\n",
    "    axes.plot(tempo,h1,'.-')\n",
    "    axes.set_ylabel('$h_1$ / cm')\n",
    "    axes.get_xaxis().set_visible(False)\n",
    "\n",
    "    axes = fig.add_subplot(4,1,3)\n",
    "    axes.plot(tempo,v2,'.-')\n",
    "    axes.set_ylabel('$T_2$ / mA')\n",
    "    axes.get_xaxis().set_visible(False)\n",
    "\n",
    "    axes = fig.add_subplot(4,1,4)\n",
    "    axes.plot(tempo,v1,'.-')\n",
    "    axes.set_ylabel('$T_1$ / mA')\n",
    "    axes.set_xlabel('tempo / s')\n",
    "    display.clear_output(wait=True)"
   ]
  },
  {
   "cell_type": "code",
   "execution_count": 10,
   "metadata": {},
   "outputs": [
    {
     "data": {
      "image/png": "[encoded data removed]",
      "text/plain": [
       "<Figure size 720x360 with 4 Axes>"
      ]
     },
     "metadata": {
      "needs_background": "light"
     },
     "output_type": "display_data"
    },
    {
     "ename": "KeyboardInterrupt",
     "evalue": "",
     "output_type": "error",
     "traceback": [
      "\u001b[0;31m---------------------------------------------------------------------------\u001b[0m",
      "\u001b[0;31mKeyboardInterrupt\u001b[0m                         Traceback (most recent call last)",
      "\u001b[0;32m<ipython-input-10-b09915aae119>\u001b[0m in \u001b[0;36m<module>\u001b[0;34m\u001b[0m\n\u001b[1;32m     38\u001b[0m     \u001b[0mser\u001b[0m\u001b[0;34m.\u001b[0m\u001b[0mwrite\u001b[0m\u001b[0;34m(\u001b[0m\u001b[0mbytearray\u001b[0m\u001b[0;34m(\u001b[0m\u001b[0;34m'{:.2f};{:.2f};{:.2f};{:.2f}\\n'\u001b[0m\u001b[0;34m.\u001b[0m\u001b[0mformat\u001b[0m\u001b[0;34m(\u001b[0m\u001b[0;36m1\u001b[0m\u001b[0;34m,\u001b[0m\u001b[0mv1\u001b[0m\u001b[0;34m[\u001b[0m\u001b[0mit\u001b[0m\u001b[0;34m]\u001b[0m\u001b[0;34m,\u001b[0m\u001b[0mv2\u001b[0m\u001b[0;34m[\u001b[0m\u001b[0mit\u001b[0m\u001b[0;34m]\u001b[0m\u001b[0;34m,\u001b[0m\u001b[0mTs\u001b[0m\u001b[0;34m)\u001b[0m\u001b[0;34m,\u001b[0m\u001b[0;34m'ASCII'\u001b[0m\u001b[0;34m)\u001b[0m\u001b[0;34m)\u001b[0m\u001b[0;34m\u001b[0m\u001b[0;34m\u001b[0m\u001b[0m\n\u001b[1;32m     39\u001b[0m \u001b[0;34m\u001b[0m\u001b[0m\n\u001b[0;32m---> 40\u001b[0;31m     \u001b[0mx\u001b[0m \u001b[0;34m=\u001b[0m \u001b[0mser\u001b[0m\u001b[0;34m.\u001b[0m\u001b[0mreadline\u001b[0m\u001b[0;34m(\u001b[0m\u001b[0;34m)\u001b[0m\u001b[0;34m.\u001b[0m\u001b[0mdecode\u001b[0m\u001b[0;34m(\u001b[0m\u001b[0;34m\"utf-8\"\u001b[0m\u001b[0;34m)\u001b[0m\u001b[0;34m\u001b[0m\u001b[0;34m\u001b[0m\u001b[0m\n\u001b[0m\u001b[1;32m     41\u001b[0m \u001b[0;34m\u001b[0m\u001b[0m\n\u001b[1;32m     42\u001b[0m     \u001b[0mdata\u001b[0m \u001b[0;34m=\u001b[0m \u001b[0mx\u001b[0m\u001b[0;34m.\u001b[0m\u001b[0msplit\u001b[0m\u001b[0;34m(\u001b[0m\u001b[0;34m'&'\u001b[0m\u001b[0;34m)\u001b[0m\u001b[0;34m\u001b[0m\u001b[0;34m\u001b[0m\u001b[0m\n",
      "\u001b[0;32m~/.local/lib/python3.7/site-packages/serial/serialposix.py\u001b[0m in \u001b[0;36mread\u001b[0;34m(self, size)\u001b[0m\n\u001b[1;32m    481\u001b[0m         \u001b[0;32mwhile\u001b[0m \u001b[0mlen\u001b[0m\u001b[0;34m(\u001b[0m\u001b[0mread\u001b[0m\u001b[0;34m)\u001b[0m \u001b[0;34m<\u001b[0m \u001b[0msize\u001b[0m\u001b[0;34m:\u001b[0m\u001b[0;34m\u001b[0m\u001b[0;34m\u001b[0m\u001b[0m\n\u001b[1;32m    482\u001b[0m             \u001b[0;32mtry\u001b[0m\u001b[0;34m:\u001b[0m\u001b[0;34m\u001b[0m\u001b[0;34m\u001b[0m\u001b[0m\n\u001b[0;32m--> 483\u001b[0;31m                 \u001b[0mready\u001b[0m\u001b[0;34m,\u001b[0m \u001b[0m_\u001b[0m\u001b[0;34m,\u001b[0m \u001b[0m_\u001b[0m \u001b[0;34m=\u001b[0m \u001b[0mselect\u001b[0m\u001b[0;34m.\u001b[0m\u001b[0mselect\u001b[0m\u001b[0;34m(\u001b[0m\u001b[0;34m[\u001b[0m\u001b[0mself\u001b[0m\u001b[0;34m.\u001b[0m\u001b[0mfd\u001b[0m\u001b[0;34m,\u001b[0m \u001b[0mself\u001b[0m\u001b[0;34m.\u001b[0m\u001b[0mpipe_abort_read_r\u001b[0m\u001b[0;34m]\u001b[0m\u001b[0;34m,\u001b[0m \u001b[0;34m[\u001b[0m\u001b[0;34m]\u001b[0m\u001b[0;34m,\u001b[0m \u001b[0;34m[\u001b[0m\u001b[0;34m]\u001b[0m\u001b[0;34m,\u001b[0m \u001b[0mtimeout\u001b[0m\u001b[0;34m.\u001b[0m\u001b[0mtime_left\u001b[0m\u001b[0;34m(\u001b[0m\u001b[0;34m)\u001b[0m\u001b[0;34m)\u001b[0m\u001b[0;34m\u001b[0m\u001b[0;34m\u001b[0m\u001b[0m\n\u001b[0m\u001b[1;32m    484\u001b[0m                 \u001b[0;32mif\u001b[0m \u001b[0mself\u001b[0m\u001b[0;34m.\u001b[0m\u001b[0mpipe_abort_read_r\u001b[0m \u001b[0;32min\u001b[0m \u001b[0mready\u001b[0m\u001b[0;34m:\u001b[0m\u001b[0;34m\u001b[0m\u001b[0;34m\u001b[0m\u001b[0m\n\u001b[1;32m    485\u001b[0m                     \u001b[0mos\u001b[0m\u001b[0;34m.\u001b[0m\u001b[0mread\u001b[0m\u001b[0;34m(\u001b[0m\u001b[0mself\u001b[0m\u001b[0;34m.\u001b[0m\u001b[0mpipe_abort_read_r\u001b[0m\u001b[0;34m,\u001b[0m \u001b[0;36m1000\u001b[0m\u001b[0;34m)\u001b[0m\u001b[0;34m\u001b[0m\u001b[0;34m\u001b[0m\u001b[0m\n",
      "\u001b[0;31mKeyboardInterrupt\u001b[0m: "
     ]
    }
   ],
   "source": [
    "ser = serial.Serial('/dev/ttyUSB0', 9600)  # Establish the connection on a specific port\n",
    "\n",
    "nsim = 100 # Quantidade total de amostras\n",
    "\n",
    "Ts = 1. # Período de amostragem\n",
    "\n",
    "# Condições iniciais\n",
    "\n",
    "h20 = 20.\n",
    "h10 = 10.\n",
    "\n",
    "# Variáveis exógenas\n",
    "v1 = [0.0]*50\n",
    "[v1.append(1.) for it in range(50)]\n",
    "[v1.append(0.) for it in range(20)]\n",
    "\n",
    "v2 = [50.0]*100\n",
    "[v2.append(0.) for it in range(20)]\n",
    "[v2.append(0.) for it in range(20)]\n",
    "\n",
    "\n",
    "# Iniciando listas\n",
    "h1 = []\n",
    "h2 = []\n",
    "v1_ = []\n",
    "v2_ = []\n",
    "\n",
    "# Comunicação\n",
    "# x = ser.readline()\n",
    "# print(x)\n",
    "\n",
    "#Escrevendo condicoes inicias\n",
    "ser.write(bytearray('{:.2f};{:.2f}'.format(h10,h20),'ASCII'))\n",
    "\n",
    "# Simulando...\n",
    "for it in range(nsim):\n",
    "    \n",
    "    ser.write(bytearray('{:.2f};{:.2f};{:.2f};{:.2f}\\n'.format(1,v1[it],v2[it],Ts),'ASCII'))\n",
    "    \n",
    "    x = ser.readline().decode(\"utf-8\")\n",
    "    \n",
    "    data = x.split('&')\n",
    "\n",
    "    h1.append(float(data[0]))\n",
    "    h2.append(float(data[1]))\n",
    "    v1_.append(float(data[2]))\n",
    "    v2_.append(float(data[3]))\n",
    "\n",
    "    # mostrando a figura\n",
    "    #grafico(*data,it*Ts)\n",
    "    grafico_tendencia(h1,h2,v1_,v2_,it+1)\n",
    "    display.clear_output(wait=True)\n",
    "    show_inline_matplotlib_plots()\n",
    "        \n",
    "    \n",
    "ser.close() # Fechando a conexão com o arduino através da porta serial"
   ]
  },
  {
   "cell_type": "code",
   "execution_count": 11,
   "metadata": {},
   "outputs": [],
   "source": [
    "ser.close()"
   ]
  },
  {
   "cell_type": "code",
   "execution_count": null,
   "metadata": {},
   "outputs": [],
   "source": []
  }
 ],
 "metadata": {
  "kernelspec": {
   "display_name": "Python 3",
   "language": "python",
   "name": "python3"
  },
  "language_info": {
   "codemirror_mode": {
    "name": "ipython",
    "version": 3
   },
   "file_extension": ".py",
   "mimetype": "text/x-python",
   "name": "python",
   "nbconvert_exporter": "python",
   "pygments_lexer": "ipython3",
   "version": "3.7.4"
  }
 },
 "nbformat": 4,
 "nbformat_minor": 4
}
