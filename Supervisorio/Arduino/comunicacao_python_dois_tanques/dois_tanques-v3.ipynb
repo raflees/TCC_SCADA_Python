{
 "cells": [
  {
   "cell_type": "markdown",
   "metadata": {},
   "source": [
    "# Dois tanques:\n",
    "\n",
    "Equação"
   ]
  },
  {
   "cell_type": "code",
   "execution_count": 1,
   "metadata": {},
   "outputs": [],
   "source": [
    "# Importação de pacotes\n",
    "import serial\n",
    "from time import sleep, time\n",
    "\n",
    "from numpy import linspace, array, hstack\n",
    "\n",
    "## Pacotes que permitem manipular como os gráficos aparecem neste notebook\n",
    "from matplotlib.pyplot import figure\n",
    "from IPython import display\n",
    "from ipywidgets.widgets.interaction import show_inline_matplotlib_plots"
   ]
  },
  {
   "cell_type": "code",
   "execution_count": 2,
   "metadata": {},
   "outputs": [],
   "source": [
    "# Gráfico\n",
    "\n",
    "def grafico(h1,h2,v1,v2,instanteTempo):\n",
    "    \n",
    "    fig = figure(figsize=(4,8))\n",
    "    \n",
    "    ax = fig.add_subplot(2, 1, 1)\n",
    "    ax.plot([0, 0], [0, 20], 'k-', [1, 1], [0, 20], 'k-')\n",
    "    ax.plot([0, 1],[float(h2), float(h2)],'b-')\n",
    "    ax.set_ylabel('h2')\n",
    "    ax.set_ylim(0,20)\n",
    "    ax.get_xaxis().set_visible(False)\n",
    "    ax.get_yaxis().set_visible(True)\n",
    "    \n",
    "    ax = fig.add_subplot(2, 1, 2)\n",
    "    ax.plot([0, 0], [0, 20], 'k-',[1, 1], [0, 20], 'k-')\n",
    "    ax.plot([0, 1], [float(h1), float(h1)], 'b-')\n",
    "    ax.set_ylabel('h1')\n",
    "    ax.set_ylim(0,20)\n",
    "    ax.get_xaxis().set_visible(False)\n",
    "    ax.get_yaxis().set_visible(True) \n",
    "    \n",
    "    ax.text(1.1, 2.2, 'Tempo: {:.2f} s'.format(instanteTempo), fontsize=14, verticalalignment='top',)\n",
    "    ax.text(1.1, 0.95, 'v1: {:.2f} V | v2: {:.2f} V'.format(float(v1), float(v2)), fontsize=14, verticalalignment='top',)\n",
    "    "
   ]
  },
  {
   "cell_type": "code",
   "execution_count": 6,
   "metadata": {},
   "outputs": [
    {
     "data": {
      "image/png": "[encoded data removed]",
      "text/plain": [
       "<Figure size 288x576 with 2 Axes>"
      ]
     },
     "metadata": {
      "needs_background": "light"
     },
     "output_type": "display_data"
    }
   ],
   "source": [
    "delta_time = []\n",
    "delta_time_a = []\n",
    "\n",
    "ser = serial.Serial('/dev/ttyUSB0', 9600)  # Establish the connection on a specific port\n",
    "\n",
    "nsim = 50 # Quantidade total de amostras\n",
    "\n",
    "Ts = 1. # Período de amostragem\n",
    "\n",
    "# Variáveis exógenas\n",
    "v1 = [0.0]*10\n",
    "[v1.append(3.) for it in range(20)]\n",
    "[v1.append(0.) for it in range(20)]\n",
    "\n",
    "v2 = [0.0]*10\n",
    "[v2.append(0.) for it in range(20)]\n",
    "[v2.append(5.) for it in range(20)]\n",
    "\n",
    "\n",
    "# Iniciando listas\n",
    "h1 = []\n",
    "h2 = []\n",
    "v1_ = []\n",
    "v2_ = []\n",
    "\n",
    "x = ser.readline()\n",
    "\n",
    "print(x)\n",
    "\n",
    "for it in range(nsim):\n",
    "    \n",
    "    ser.write(bytearray('{:.2f};{:.2f};{:.2f}\\n'.format(v1[it],v2[it],Ts),'ASCII'))\n",
    "    \n",
    "    start = time()\n",
    "    x = ser.readline().decode(\"utf-8\")\n",
    "    end = time()\n",
    "    \n",
    "    data = x.split('&')\n",
    "\n",
    "    h1.append(float(data[0]))\n",
    "    h2.append(float(data[1]))\n",
    "    v1_.append(float(data[2]))\n",
    "    v2_.append(float(data[3]))\n",
    "    delta_time.append(end-start)\n",
    "\n",
    "    # mostrando a figura\n",
    "    grafico(*data,it*Ts)\n",
    "    display.clear_output(wait=True)\n",
    "    show_inline_matplotlib_plots()\n",
    "        \n",
    "    \n",
    "ser.close() # Fechando a conexão com o arduino através da porta serial"
   ]
  },
  {
   "cell_type": "code",
   "execution_count": 4,
   "metadata": {},
   "outputs": [
    {
     "data": {
      "image/png": "[encoded data removed]",
      "text/plain": [
       "<Figure size 432x288 with 4 Axes>"
      ]
     },
     "metadata": {
      "needs_background": "light"
     },
     "output_type": "display_data"
    }
   ],
   "source": [
    "tempo = linspace(0,(nsim-1)*Ts,nsim)\n",
    "\n",
    "fig = figure()\n",
    "axes = fig.add_subplot(4,1,1)\n",
    "axes.plot(tempo,h2,'.-')\n",
    "axes.set_ylabel('h2')\n",
    "axes.get_xaxis().set_visible(False)\n",
    "axes = fig.add_subplot(4,1,2)\n",
    "axes.plot(tempo,h1,'.-')\n",
    "axes.set_ylabel('h1')\n",
    "axes.get_xaxis().set_visible(False)\n",
    "axes = fig.add_subplot(4,1,3)\n",
    "axes.plot(tempo,v1_,'.-')\n",
    "axes.set_ylabel('v1')\n",
    "axes.get_xaxis().set_visible(False)\n",
    "axes = fig.add_subplot(4,1,4)\n",
    "axes.plot(tempo,v2_,'.-')\n",
    "axes.set_ylabel('v2')\n",
    "display.clear_output(wait=True)"
   ]
  }
 ],
 "metadata": {
  "kernelspec": {
   "display_name": "Python 3",
   "language": "python",
   "name": "python3"
  },
  "language_info": {
   "codemirror_mode": {
    "name": "ipython",
    "version": 3
   },
   "file_extension": ".py",
   "mimetype": "text/x-python",
   "name": "python",
   "nbconvert_exporter": "python",
   "pygments_lexer": "ipython3",
   "version": "3.7.3"
  }
 },
 "nbformat": 4,
 "nbformat_minor": 4
}
